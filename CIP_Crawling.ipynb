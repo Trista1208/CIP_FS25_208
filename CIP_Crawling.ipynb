{
 "cells": [
  {
   "cell_type": "code",
   "execution_count": null,
   "metadata": {},
   "outputs": [],
   "source": [
    "from selenium import webdriver\n",
    "import time\n",
    "from bs4 import BeautifulSoup\n",
    "from lxml import etree\n",
    "import re\n",
    "import pandas"
   ]
  },
  {
   "cell_type": "code",
   "execution_count": null,
   "metadata": {},
   "outputs": [],
   "source": [
    "data = dict()"
   ]
  },
  {
   "cell_type": "code",
   "execution_count": null,
   "metadata": {},
   "outputs": [],
   "source": [
    "# Starte Chrome (oder Edge, Firefox etc.)\n",
    "options = webdriver.ChromeOptions()\n",
    "options.add_argument(\"Mozilla/5.0\")\n",
    "driver = webdriver.Chrome(options=options)\n",
    "\n",
    "url = \"https://www.galaxus.ch/en/s2/product/dreame-x50-ultra-complete-vacuum-mopping-robot-robot-vacuum-cleaners-53898301\"\n",
    "driver.get(url)\n",
    "time.sleep(3)  # Warte auf das Laden der Inhalte\n",
    "\n",
    "soup = BeautifulSoup(driver.page_source, 'lxml')\n",
    "\n",
    "table = \n",
    "\n",
    "time.sleep(10)\n",
    "driver.quit()"
   ]
  },
  {
   "cell_type": "code",
   "execution_count": null,
   "metadata": {},
   "outputs": [],
   "source": [
    "soup"
   ]
  },
  {
   "cell_type": "code",
   "execution_count": null,
   "metadata": {},
   "outputs": [],
   "source": [
    "dom = etree.HTML(str(soup))\n",
    "\n",
    "# extracting the name\n",
    "name_element = dom.xpath('//*[@id=\"pageContent\"]/div/div[1]/div/div/div[2]/div/div[1]/div/h1')\n",
    "name = name_element[0].xpath(\"string()\")\n",
    "data[name] = dict()\n",
    "\n",
    "# extracting the price\n",
    "price_element = dom.xpath('//*[@id=\"pageContent\"]/div/div[1]/div/div/div[2]/div/div[1]/span/strong/button/text()')\n",
    "price_int = int(re.sub(r\"[^\\d]\", \"\", price_element[0]))\n",
    "data.get(name).update({\"price\" : price_int})\n",
    "\n",
    "# extracting the rating\n",
    "rating_element = dom.xpath('//*[@id=\"pageContent\"]/div/div[1]/div/div/div[2]/div/div[2]/div[1]/a/span[3]')\n",
    "rating_float = float(rating_element[0].get(\"aria-label\").split()[0])\n",
    "data.get(name).update({\"rating\" : rating_float})\n",
    "\n",
    "# extracting the rating\n",
    "rating_count_element = dom.xpath('//*[@id=\"pageContent\"]/div/div[1]/div/div/div[2]/div/div[2]/div[1]/a/span[1]')\n",
    "rating_count_int = int(rating_count_element[0].xpath(\"string()\"))\n",
    "data.get(name).update({\"rating_count\" : rating_count_int})\n",
    "\n",
    "tables = dom.xpath('//*[@id=\":R2otliabhj7bl6:\"]/div')\n",
    "tables = dom.xpath('//*[@id=\":R2otliabhj7bl6:\"]/div/div[1]/div/table/tbody/tr[6]/td[2]/div/div')\n",
    "print(\"x\", tables)\n",
    "\n",
    "\n",
    "\n",
    "for table in soup.find_all(class_=\"specificationTable_styled_SpecificationTableStyled__G_W91\"):\n",
    "    print(\"x\")\n",
    "    for row in table.find_all(\"tr\"):\n",
    "        cells = row.find_all(\"td\")\n",
    "        if len(cells) == 2:\n",
    "            key = cells[0].get_text(separator=\" \", strip=True)\n",
    "            print(key)\n",
    "            # Sammle alle Value-Elemente in der rechten Spalte\n",
    "            values = cells[1].find_all(\"span\", class_=\"value_StyledValue__KCmTz\")\n",
    "            value_texts = [v.get_text(\" \", strip=True) for v in values]\n",
    "            value = \", \".join(value_texts).replace(\"\\xa0\", \" \")\n",
    "            data.get(name).update({key : value})\n",
    "\n",
    "print(data)"
   ]
  },
  {
   "cell_type": "code",
   "execution_count": null,
   "metadata": {},
   "outputs": [],
   "source": []
  }
 ],
 "metadata": {
  "kernelspec": {
   "display_name": ".CIP",
   "language": "python",
   "name": "python3"
  },
  "language_info": {
   "codemirror_mode": {
    "name": "ipython",
    "version": 3
   },
   "file_extension": ".py",
   "mimetype": "text/x-python",
   "name": "python",
   "nbconvert_exporter": "python",
   "pygments_lexer": "ipython3",
   "version": "3.11.5"
  }
 },
 "nbformat": 4,
 "nbformat_minor": 2
}
