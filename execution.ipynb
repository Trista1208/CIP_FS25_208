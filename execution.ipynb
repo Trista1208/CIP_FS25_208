{
 "cells": [
  {
   "cell_type": "code",
   "execution_count": 3,
   "metadata": {},
   "outputs": [],
   "source": [
    "# pip install -r requirements.txt"
   ]
  },
  {
   "cell_type": "code",
   "execution_count": 4,
   "metadata": {},
   "outputs": [],
   "source": [
    "from CIP_crawling import crawl_for_links, crawl_for_product_data, data_to_csv\n",
    "from clean_data import process_data\n",
    "from Vacuum_EDA import eda_default_execution, eda_custom_execution, eda_selective_execution\n",
    "from CIP_analysis import load_new, onehot_encoding, price_efficiency, feature_rating, price_efficiency_features"
   ]
  },
  {
   "cell_type": "markdown",
   "metadata": {},
   "source": [
    "## Data Crawling"
   ]
  },
  {
   "cell_type": "code",
   "execution_count": null,
   "metadata": {},
   "outputs": [],
   "source": [
    "# Get product URLs from the search results page\n",
    "urls = crawl_for_links(url=\"https://www.galaxus.ch/en/s2/producttype/robot-vacuum-cleaners-174?take=100\",\n",
    "                       user_agent = \"Mozilla/5.0 (Windows NT 10.0; Win64; x64) AppleWebKit/537.36 (KHTML, like Gecko) Chrome/122.0.0.0 Safari/537.36\")\n",
    "\n",
    "# Scrape all product data and store it in a dictionary\n",
    "# [:5] is for testing only. Scraping one product takes ~4 seconds, so scraping ~500 products takes about 40 minutes.\n",
    "data = crawl_for_product_data(urls[:5],\n",
    "                              user_agent = \"Mozilla/5.0 (Windows NT 10.0; Win64; x64) AppleWebKit/537.36 (KHTML, like Gecko) Chrome/122.0.0.0 Safari/537.36\")\n",
    "\n",
    "# Save the data to a .csv file\n",
    "data_to_csv(data, save=False)"
   ]
  },
  {
   "cell_type": "markdown",
   "metadata": {},
   "source": [
    "## Data Cleaning"
   ]
  },
  {
   "cell_type": "code",
   "execution_count": 5,
   "metadata": {},
   "outputs": [
    {
     "name": "stdout",
     "output_type": "stream",
     "text": [
      "\n",
      "Data completeness filtering:\n",
      "Rows removed due to having more than 15 empty elements: 3\n",
      "Rows remaining: 468\n",
      "\n",
      "Data cleaning completed. Cleaned data saved to 'robot_vacuums_cleaned.csv'\n",
      "Original shape: (471, 60)\n",
      "Cleaned shape: (468, 25)\n",
      "\n",
      "Data Statistics:\n",
      "Number of unique manufacturers: 91\n",
      "Price range: CHF100.00 - CHF2990.00\n",
      "Average rating: 4.17\n",
      "Average battery life: 169 minutes\n",
      "Most common colours: {'Black': 170, 'White': 159, '': 21}\n",
      "Battery capacity range: 1200 - 8000 mAh\n",
      "\n",
      "Generating summary report...\n",
      "Summary report has been created and saved as 'Vacuum robots info summary.txt'\n"
     ]
    }
   ],
   "source": [
    "# Process and clean the robot vacuum data\n",
    "df_original, df_cleaned, report = process_data(\n",
    "    input_file='robot_vacuums.csv',\n",
    "    output_file='robot_vacuums_cleaned.csv',\n",
    "    report_file='Vacuum robots info summary.txt'\n",
    ")"
   ]
  },
  {
   "cell_type": "markdown",
   "metadata": {},
   "source": [
    "## EDA"
   ]
  },
  {
   "cell_type": "code",
   "execution_count": 6,
   "metadata": {},
   "outputs": [
    {
     "name": "stdout",
     "output_type": "stream",
     "text": [
      "\n",
      "================================================================================\n",
      "======================== EXAMPLE 1: Default Execution ========================\n",
      "================================================================================\n",
      "\n",
      "Running the complete EDA analysis with default parameters...\n",
      "\n",
      "This will:\n",
      " - Use 'robot_vacuums_cleaned.csv' as input\n",
      " - Save plots to the 'plots' directory\n",
      " - Append EDA results to 'Vacuum robots info summary.txt'\n",
      "\n",
      "Executing...\n",
      "\n",
      "\n",
      "Summary Statistics:\n",
      "\n",
      "Price Categories Distribution:\n",
      "price_category\n",
      "Mid-range (CHF 200-500)    52.8%\n",
      "Premium (CHF 500-1000)     26.5%\n",
      "Budget (< CHF 200)         11.8%\n",
      "Luxury (> CHF 1000)         9.0%\n",
      "Name: proportion, dtype: object\n",
      "\n",
      "Country of Origin Distribution:\n",
      "country\n",
      "Other          57.7%\n",
      "China          29.7%\n",
      "USA             8.8%\n",
      "Netherlands     2.4%\n",
      "South Korea     1.1%\n",
      "Germany         0.4%\n",
      "Name: proportion, dtype: object\n",
      "\n",
      "Average Price by Country:\n",
      "country\n",
      "South Korea    1037.21\n",
      "China           667.53\n",
      "Germany         528.50\n",
      "Other           496.72\n",
      "USA             487.98\n",
      "Netherlands     446.54\n",
      "Name: price, dtype: float64\n",
      "\n",
      "Battery Statistics:\n",
      "Average Battery Capacity: 4038 mAh\n",
      "Average Battery Life: 169 minutes\n",
      "\n",
      "Detailed summary has been added to the report file.\n",
      "\n",
      "Plots have been saved in the 'plots' directory.\n",
      "\n",
      "================================================================================\n",
      "======================== EXAMPLE 2: Custom Execution =========================\n",
      "================================================================================\n",
      "\n",
      "Running the EDA analysis with custom parameters...\n",
      "\n",
      "This will:\n",
      " - Use 'robot_vacuums_cleaned.csv' as input\n",
      " - Save plots to the 'custom_plots' directory\n",
      " - Save report to 'Custom_EDA_Report.txt'\n",
      "\n",
      "Executing...\n",
      "\n",
      "\n",
      "Summary Statistics:\n",
      "\n",
      "Price Categories Distribution:\n",
      "price_category\n",
      "Mid-range (CHF 200-500)    52.8%\n",
      "Premium (CHF 500-1000)     26.5%\n",
      "Budget (< CHF 200)         11.8%\n",
      "Luxury (> CHF 1000)         9.0%\n",
      "Name: proportion, dtype: object\n",
      "\n",
      "Country of Origin Distribution:\n",
      "country\n",
      "Other          57.7%\n",
      "China          29.7%\n",
      "USA             8.8%\n",
      "Netherlands     2.4%\n",
      "South Korea     1.1%\n",
      "Germany         0.4%\n",
      "Name: proportion, dtype: object\n",
      "\n",
      "Average Price by Country:\n",
      "country\n",
      "South Korea    1037.21\n",
      "China           667.53\n",
      "Germany         528.50\n",
      "Other           496.72\n",
      "USA             487.98\n",
      "Netherlands     446.54\n",
      "Name: price, dtype: float64\n",
      "\n",
      "Battery Statistics:\n",
      "Average Battery Capacity: 4038 mAh\n",
      "Average Battery Life: 169 minutes\n",
      "\n",
      "Detailed summary has been added to the report file.\n",
      "\n",
      "Plots have been saved in the 'plots' directory.\n",
      "\n",
      "================================================================================\n",
      "======================= EXAMPLE 3: Selective Execution =======================\n",
      "================================================================================\n",
      "\n",
      "Running only selected analysis functions...\n",
      "\n",
      "Loading and preparing data...\n",
      "Generating selected plots:\n",
      " - Price distribution\n",
      " - Country distribution\n",
      " - Battery capacity vs price\n",
      "\n",
      "Selective plots have been saved to the 'selective_plots' directory.\n"
     ]
    }
   ],
   "source": [
    "# With this functions we can make the different variants of evaluation to get a impression of the data\n",
    "# It is not mandatory for the process\n",
    "\n",
    "# Running the full EDA pipeline with default parameters\n",
    "eda_default_execution(input_df='robot_vacuums_cleaned.csv', save_plot=False)\n",
    "\n",
    "# Specifying custom input, output files and plots directory\n",
    "eda_custom_execution(input_df='robot_vacuums_cleaned.csv', save_plot=False)\n",
    "\n",
    "# Running only specific analysis functions\n",
    "eda_selective_execution(input_file='robot_vacuums_cleaned.csv', save_plot=False)  # Note: this function uses input_file, not input_df"
   ]
  },
  {
   "cell_type": "markdown",
   "metadata": {},
   "source": [
    "## Data Analysis"
   ]
  },
  {
   "cell_type": "code",
   "execution_count": null,
   "metadata": {},
   "outputs": [],
   "source": [
    "# Load the cleaned CSV file\n",
    "df_cleaned = load_new(new_csv=\"robot_vacuums_cleaned.csv\", print_i=False)\n",
    "\n",
    "# Create one-hot encodings from the features\n",
    "df_onehot = onehot_encoding(df_cleaned, print_i=False)\n",
    "\n",
    "# Calculate the price-efficiency of the products and return the top X products for each category\n",
    "price_efficiency(df_onehot, top=5, price_rel=50)\n",
    "\n",
    "# Analyze the influence of features on product ratings and display those with the lowest p-values\n",
    "feature_rating(df_onehot)\n",
    "\n",
    "# Price and Rating per feature ranking\n",
    "price_efficiency_features(df_onehot, print_i=True)"
   ]
  },
  {
   "cell_type": "code",
   "execution_count": null,
   "metadata": {},
   "outputs": [],
   "source": []
  }
 ],
 "metadata": {
  "kernelspec": {
   "display_name": "Python 3",
   "language": "python",
   "name": "python3"
  },
  "language_info": {
   "codemirror_mode": {
    "name": "ipython",
    "version": 3
   },
   "file_extension": ".py",
   "mimetype": "text/x-python",
   "name": "python",
   "nbconvert_exporter": "python",
   "pygments_lexer": "ipython3",
   "version": "3.12.8"
  }
 },
 "nbformat": 4,
 "nbformat_minor": 2
}
