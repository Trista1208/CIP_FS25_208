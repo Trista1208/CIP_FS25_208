{
 "cells": [
  {
   "cell_type": "code",
   "execution_count": 5,
   "metadata": {},
   "outputs": [],
   "source": [
    "# pip install -r requirements.txt"
   ]
  },
  {
   "cell_type": "code",
   "execution_count": 17,
   "metadata": {},
   "outputs": [],
   "source": [
    "from CIP_crawling import crawl_for_links, crawl_for_product_data, data_to_csv\n",
    "from clean_data import clean_data, generate_report, process_data, get_cleaned_data\n",
    "from Vacuum_EDA import eda_default_execution, eda_custom_execution, eda_selective_execution\n",
    "from CIP_analysis import load_old, load_new, inspecting_outputs, onehot_encoding, price_efficiency, feature_rating, price_efficiency_features"
   ]
  },
  {
   "cell_type": "markdown",
   "metadata": {},
   "source": [
    "## Data Crawling"
   ]
  },
  {
   "cell_type": "code",
   "execution_count": 12,
   "metadata": {},
   "outputs": [
    {
     "ename": "SessionNotCreatedException",
     "evalue": "Message: session not created: cannot connect to chrome at 127.0.0.1:51478\nfrom session not created: This version of ChromeDriver only supports Chrome version 135\nCurrent browser version is 134.0.6998.166\nStacktrace:\n0   undetected_chromedriver             0x0000000100bae168 undetected_chromedriver + 6177128\n1   undetected_chromedriver             0x0000000100ba582a undetected_chromedriver + 6141994\n2   undetected_chromedriver             0x000000010062fe00 undetected_chromedriver + 417280\n3   undetected_chromedriver             0x00000001006708a6 undetected_chromedriver + 682150\n4   undetected_chromedriver             0x000000010066f814 undetected_chromedriver + 677908\n5   undetected_chromedriver             0x0000000100664fae undetected_chromedriver + 634798\n6   undetected_chromedriver             0x00000001006b5f22 undetected_chromedriver + 966434\n7   undetected_chromedriver             0x00000001006b5416 undetected_chromedriver + 963606\n8   undetected_chromedriver             0x00000001006a74c3 undetected_chromedriver + 906435\n9   undetected_chromedriver             0x0000000100673885 undetected_chromedriver + 694405\n10  undetected_chromedriver             0x00000001006744f1 undetected_chromedriver + 697585\n11  undetected_chromedriver             0x0000000100b6a950 undetected_chromedriver + 5900624\n12  undetected_chromedriver             0x0000000100b6e9e1 undetected_chromedriver + 5917153\n13  undetected_chromedriver             0x0000000100b44e14 undetected_chromedriver + 5746196\n14  undetected_chromedriver             0x0000000100b6f40b undetected_chromedriver + 5919755\n15  undetected_chromedriver             0x0000000100b33574 undetected_chromedriver + 5674356\n16  undetected_chromedriver             0x0000000100b92e88 undetected_chromedriver + 6065800\n17  undetected_chromedriver             0x0000000100b93050 undetected_chromedriver + 6066256\n18  undetected_chromedriver             0x0000000100ba53f1 undetected_chromedriver + 6140913\n19  libsystem_pthread.dylib             0x00007ff801a64253 _pthread_start + 99\n20  libsystem_pthread.dylib             0x00007ff801a5fbef thread_start + 15\n",
     "output_type": "error",
     "traceback": [
      "\u001b[0;31m---------------------------------------------------------------------------\u001b[0m",
      "\u001b[0;31mSessionNotCreatedException\u001b[0m                Traceback (most recent call last)",
      "Cell \u001b[0;32mIn[12], line 2\u001b[0m\n\u001b[1;32m      1\u001b[0m \u001b[38;5;66;03m# Get product URLs from the search results page\u001b[39;00m\n\u001b[0;32m----> 2\u001b[0m urls \u001b[38;5;241m=\u001b[39m \u001b[43mcrawl_for_links\u001b[49m\u001b[43m(\u001b[49m\u001b[43murl\u001b[49m\u001b[38;5;241;43m=\u001b[39;49m\u001b[38;5;124;43m\"\u001b[39;49m\u001b[38;5;124;43mhttps://www.galaxus.ch/en/s2/producttype/robot-vacuum-cleaners-174?take=204\u001b[39;49m\u001b[38;5;124;43m\"\u001b[39;49m\u001b[43m)\u001b[49m\n\u001b[1;32m      4\u001b[0m \u001b[38;5;66;03m# Scrape all product data and store it in a dictionary\u001b[39;00m\n\u001b[1;32m      5\u001b[0m data \u001b[38;5;241m=\u001b[39m crawl_for_product_data(urls[:\u001b[38;5;241m5\u001b[39m])        \u001b[38;5;66;03m# [:10] is for testing only. Scraping one product takes ~4 seconds, so scraping ~500 products takes about 40 minutes.\u001b[39;00m\n",
      "File \u001b[0;32m~/Desktop/CIP_FS25_208-main copy/CIP_crawling.py:34\u001b[0m, in \u001b[0;36mcrawl_for_links\u001b[0;34m(url, print_i)\u001b[0m\n\u001b[1;32m     31\u001b[0m options\u001b[38;5;241m.\u001b[39madd_argument(\u001b[38;5;124m\"\u001b[39m\u001b[38;5;124muser-agent=Mozilla/5.0 (Windows NT 10.0; Win64; x64) AppleWebKit/537.36 (KHTML, like Gecko) Chrome/122.0.0.0 Safari/537.36\u001b[39m\u001b[38;5;124m\"\u001b[39m)\n\u001b[1;32m     33\u001b[0m \u001b[38;5;66;03m# to make shure we don't get detected as a bot\u001b[39;00m\n\u001b[0;32m---> 34\u001b[0m driver \u001b[38;5;241m=\u001b[39m \u001b[43muc\u001b[49m\u001b[38;5;241;43m.\u001b[39;49m\u001b[43mChrome\u001b[49m\u001b[43m(\u001b[49m\u001b[43moptions\u001b[49m\u001b[38;5;241;43m=\u001b[39;49m\u001b[43moptions\u001b[49m\u001b[43m,\u001b[49m\u001b[43m \u001b[49m\u001b[43mheadless\u001b[49m\u001b[38;5;241;43m=\u001b[39;49m\u001b[38;5;28;43;01mFalse\u001b[39;49;00m\u001b[43m)\u001b[49m\n\u001b[1;32m     36\u001b[0m driver\u001b[38;5;241m.\u001b[39mget(url)\n\u001b[1;32m     38\u001b[0m \u001b[38;5;66;03m# Warte auf erste Seite\u001b[39;00m\n",
      "File \u001b[0;32m/Library/Frameworks/Python.framework/Versions/3.12/lib/python3.12/site-packages/undetected_chromedriver/__init__.py:466\u001b[0m, in \u001b[0;36mChrome.__init__\u001b[0;34m(self, options, user_data_dir, driver_executable_path, browser_executable_path, port, enable_cdp_events, desired_capabilities, advanced_elements, keep_alive, log_level, headless, version_main, patcher_force_close, suppress_welcome, use_subprocess, debug, no_sandbox, user_multi_procs, **kw)\u001b[0m\n\u001b[1;32m    459\u001b[0m     \u001b[38;5;28mself\u001b[39m\u001b[38;5;241m.\u001b[39mbrowser_pid \u001b[38;5;241m=\u001b[39m browser\u001b[38;5;241m.\u001b[39mpid\n\u001b[1;32m    462\u001b[0m service \u001b[38;5;241m=\u001b[39m selenium\u001b[38;5;241m.\u001b[39mwebdriver\u001b[38;5;241m.\u001b[39mchromium\u001b[38;5;241m.\u001b[39mservice\u001b[38;5;241m.\u001b[39mChromiumService(\n\u001b[1;32m    463\u001b[0m     \u001b[38;5;28mself\u001b[39m\u001b[38;5;241m.\u001b[39mpatcher\u001b[38;5;241m.\u001b[39mexecutable_path\n\u001b[1;32m    464\u001b[0m )\n\u001b[0;32m--> 466\u001b[0m \u001b[38;5;28;43msuper\u001b[39;49m\u001b[43m(\u001b[49m\u001b[43mChrome\u001b[49m\u001b[43m,\u001b[49m\u001b[43m \u001b[49m\u001b[38;5;28;43mself\u001b[39;49m\u001b[43m)\u001b[49m\u001b[38;5;241;43m.\u001b[39;49m\u001b[38;5;21;43m__init__\u001b[39;49m\u001b[43m(\u001b[49m\n\u001b[1;32m    467\u001b[0m \u001b[43m    \u001b[49m\u001b[43mservice\u001b[49m\u001b[38;5;241;43m=\u001b[39;49m\u001b[43mservice\u001b[49m\u001b[43m,\u001b[49m\n\u001b[1;32m    468\u001b[0m \u001b[43m    \u001b[49m\u001b[43moptions\u001b[49m\u001b[38;5;241;43m=\u001b[39;49m\u001b[43moptions\u001b[49m\u001b[43m,\u001b[49m\n\u001b[1;32m    469\u001b[0m \u001b[43m    \u001b[49m\u001b[43mkeep_alive\u001b[49m\u001b[38;5;241;43m=\u001b[39;49m\u001b[43mkeep_alive\u001b[49m\u001b[43m,\u001b[49m\n\u001b[1;32m    470\u001b[0m \u001b[43m\u001b[49m\u001b[43m)\u001b[49m\n\u001b[1;32m    472\u001b[0m \u001b[38;5;28mself\u001b[39m\u001b[38;5;241m.\u001b[39mreactor \u001b[38;5;241m=\u001b[39m \u001b[38;5;28;01mNone\u001b[39;00m\n\u001b[1;32m    474\u001b[0m \u001b[38;5;28;01mif\u001b[39;00m enable_cdp_events:\n",
      "File \u001b[0;32m/Library/Frameworks/Python.framework/Versions/3.12/lib/python3.12/site-packages/selenium/webdriver/chrome/webdriver.py:45\u001b[0m, in \u001b[0;36mWebDriver.__init__\u001b[0;34m(self, options, service, keep_alive)\u001b[0m\n\u001b[1;32m     42\u001b[0m service \u001b[38;5;241m=\u001b[39m service \u001b[38;5;28;01mif\u001b[39;00m service \u001b[38;5;28;01melse\u001b[39;00m Service()\n\u001b[1;32m     43\u001b[0m options \u001b[38;5;241m=\u001b[39m options \u001b[38;5;28;01mif\u001b[39;00m options \u001b[38;5;28;01melse\u001b[39;00m Options()\n\u001b[0;32m---> 45\u001b[0m \u001b[38;5;28;43msuper\u001b[39;49m\u001b[43m(\u001b[49m\u001b[43m)\u001b[49m\u001b[38;5;241;43m.\u001b[39;49m\u001b[38;5;21;43m__init__\u001b[39;49m\u001b[43m(\u001b[49m\n\u001b[1;32m     46\u001b[0m \u001b[43m    \u001b[49m\u001b[43mbrowser_name\u001b[49m\u001b[38;5;241;43m=\u001b[39;49m\u001b[43mDesiredCapabilities\u001b[49m\u001b[38;5;241;43m.\u001b[39;49m\u001b[43mCHROME\u001b[49m\u001b[43m[\u001b[49m\u001b[38;5;124;43m\"\u001b[39;49m\u001b[38;5;124;43mbrowserName\u001b[39;49m\u001b[38;5;124;43m\"\u001b[39;49m\u001b[43m]\u001b[49m\u001b[43m,\u001b[49m\n\u001b[1;32m     47\u001b[0m \u001b[43m    \u001b[49m\u001b[43mvendor_prefix\u001b[49m\u001b[38;5;241;43m=\u001b[39;49m\u001b[38;5;124;43m\"\u001b[39;49m\u001b[38;5;124;43mgoog\u001b[39;49m\u001b[38;5;124;43m\"\u001b[39;49m\u001b[43m,\u001b[49m\n\u001b[1;32m     48\u001b[0m \u001b[43m    \u001b[49m\u001b[43moptions\u001b[49m\u001b[38;5;241;43m=\u001b[39;49m\u001b[43moptions\u001b[49m\u001b[43m,\u001b[49m\n\u001b[1;32m     49\u001b[0m \u001b[43m    \u001b[49m\u001b[43mservice\u001b[49m\u001b[38;5;241;43m=\u001b[39;49m\u001b[43mservice\u001b[49m\u001b[43m,\u001b[49m\n\u001b[1;32m     50\u001b[0m \u001b[43m    \u001b[49m\u001b[43mkeep_alive\u001b[49m\u001b[38;5;241;43m=\u001b[39;49m\u001b[43mkeep_alive\u001b[49m\u001b[43m,\u001b[49m\n\u001b[1;32m     51\u001b[0m \u001b[43m\u001b[49m\u001b[43m)\u001b[49m\n",
      "File \u001b[0;32m/Library/Frameworks/Python.framework/Versions/3.12/lib/python3.12/site-packages/selenium/webdriver/chromium/webdriver.py:66\u001b[0m, in \u001b[0;36mChromiumDriver.__init__\u001b[0;34m(self, browser_name, vendor_prefix, options, service, keep_alive)\u001b[0m\n\u001b[1;32m     57\u001b[0m executor \u001b[38;5;241m=\u001b[39m ChromiumRemoteConnection(\n\u001b[1;32m     58\u001b[0m     remote_server_addr\u001b[38;5;241m=\u001b[39m\u001b[38;5;28mself\u001b[39m\u001b[38;5;241m.\u001b[39mservice\u001b[38;5;241m.\u001b[39mservice_url,\n\u001b[1;32m     59\u001b[0m     browser_name\u001b[38;5;241m=\u001b[39mbrowser_name,\n\u001b[0;32m   (...)\u001b[0m\n\u001b[1;32m     62\u001b[0m     ignore_proxy\u001b[38;5;241m=\u001b[39moptions\u001b[38;5;241m.\u001b[39m_ignore_local_proxy,\n\u001b[1;32m     63\u001b[0m )\n\u001b[1;32m     65\u001b[0m \u001b[38;5;28;01mtry\u001b[39;00m:\n\u001b[0;32m---> 66\u001b[0m     \u001b[38;5;28;43msuper\u001b[39;49m\u001b[43m(\u001b[49m\u001b[43m)\u001b[49m\u001b[38;5;241;43m.\u001b[39;49m\u001b[38;5;21;43m__init__\u001b[39;49m\u001b[43m(\u001b[49m\u001b[43mcommand_executor\u001b[49m\u001b[38;5;241;43m=\u001b[39;49m\u001b[43mexecutor\u001b[49m\u001b[43m,\u001b[49m\u001b[43m \u001b[49m\u001b[43moptions\u001b[49m\u001b[38;5;241;43m=\u001b[39;49m\u001b[43moptions\u001b[49m\u001b[43m)\u001b[49m\n\u001b[1;32m     67\u001b[0m \u001b[38;5;28;01mexcept\u001b[39;00m \u001b[38;5;167;01mException\u001b[39;00m:\n\u001b[1;32m     68\u001b[0m     \u001b[38;5;28mself\u001b[39m\u001b[38;5;241m.\u001b[39mquit()\n",
      "File \u001b[0;32m/Library/Frameworks/Python.framework/Versions/3.12/lib/python3.12/site-packages/selenium/webdriver/remote/webdriver.py:250\u001b[0m, in \u001b[0;36mWebDriver.__init__\u001b[0;34m(self, command_executor, keep_alive, file_detector, options, locator_converter, web_element_cls, client_config)\u001b[0m\n\u001b[1;32m    248\u001b[0m \u001b[38;5;28mself\u001b[39m\u001b[38;5;241m.\u001b[39m_authenticator_id \u001b[38;5;241m=\u001b[39m \u001b[38;5;28;01mNone\u001b[39;00m\n\u001b[1;32m    249\u001b[0m \u001b[38;5;28mself\u001b[39m\u001b[38;5;241m.\u001b[39mstart_client()\n\u001b[0;32m--> 250\u001b[0m \u001b[38;5;28;43mself\u001b[39;49m\u001b[38;5;241;43m.\u001b[39;49m\u001b[43mstart_session\u001b[49m\u001b[43m(\u001b[49m\u001b[43mcapabilities\u001b[49m\u001b[43m)\u001b[49m\n\u001b[1;32m    251\u001b[0m \u001b[38;5;28mself\u001b[39m\u001b[38;5;241m.\u001b[39m_fedcm \u001b[38;5;241m=\u001b[39m FedCM(\u001b[38;5;28mself\u001b[39m)\n\u001b[1;32m    253\u001b[0m \u001b[38;5;28mself\u001b[39m\u001b[38;5;241m.\u001b[39m_websocket_connection \u001b[38;5;241m=\u001b[39m \u001b[38;5;28;01mNone\u001b[39;00m\n",
      "File \u001b[0;32m/Library/Frameworks/Python.framework/Versions/3.12/lib/python3.12/site-packages/undetected_chromedriver/__init__.py:724\u001b[0m, in \u001b[0;36mChrome.start_session\u001b[0;34m(self, capabilities, browser_profile)\u001b[0m\n\u001b[1;32m    722\u001b[0m \u001b[38;5;28;01mif\u001b[39;00m \u001b[38;5;129;01mnot\u001b[39;00m capabilities:\n\u001b[1;32m    723\u001b[0m     capabilities \u001b[38;5;241m=\u001b[39m \u001b[38;5;28mself\u001b[39m\u001b[38;5;241m.\u001b[39moptions\u001b[38;5;241m.\u001b[39mto_capabilities()\n\u001b[0;32m--> 724\u001b[0m \u001b[38;5;28;43msuper\u001b[39;49m\u001b[43m(\u001b[49m\u001b[43mselenium\u001b[49m\u001b[38;5;241;43m.\u001b[39;49m\u001b[43mwebdriver\u001b[49m\u001b[38;5;241;43m.\u001b[39;49m\u001b[43mchrome\u001b[49m\u001b[38;5;241;43m.\u001b[39;49m\u001b[43mwebdriver\u001b[49m\u001b[38;5;241;43m.\u001b[39;49m\u001b[43mWebDriver\u001b[49m\u001b[43m,\u001b[49m\u001b[43m \u001b[49m\u001b[38;5;28;43mself\u001b[39;49m\u001b[43m)\u001b[49m\u001b[38;5;241;43m.\u001b[39;49m\u001b[43mstart_session\u001b[49m\u001b[43m(\u001b[49m\n\u001b[1;32m    725\u001b[0m \u001b[43m    \u001b[49m\u001b[43mcapabilities\u001b[49m\n\u001b[1;32m    726\u001b[0m \u001b[43m\u001b[49m\u001b[43m)\u001b[49m\n",
      "File \u001b[0;32m/Library/Frameworks/Python.framework/Versions/3.12/lib/python3.12/site-packages/selenium/webdriver/remote/webdriver.py:342\u001b[0m, in \u001b[0;36mWebDriver.start_session\u001b[0;34m(self, capabilities)\u001b[0m\n\u001b[1;32m    333\u001b[0m \u001b[38;5;250m\u001b[39m\u001b[38;5;124;03m\"\"\"Creates a new session with the desired capabilities.\u001b[39;00m\n\u001b[1;32m    334\u001b[0m \n\u001b[1;32m    335\u001b[0m \u001b[38;5;124;03mParameters:\u001b[39;00m\n\u001b[0;32m   (...)\u001b[0m\n\u001b[1;32m    338\u001b[0m \u001b[38;5;124;03m    - A capabilities dict to start the session with.\u001b[39;00m\n\u001b[1;32m    339\u001b[0m \u001b[38;5;124;03m\"\"\"\u001b[39;00m\n\u001b[1;32m    341\u001b[0m caps \u001b[38;5;241m=\u001b[39m _create_caps(capabilities)\n\u001b[0;32m--> 342\u001b[0m response \u001b[38;5;241m=\u001b[39m \u001b[38;5;28;43mself\u001b[39;49m\u001b[38;5;241;43m.\u001b[39;49m\u001b[43mexecute\u001b[49m\u001b[43m(\u001b[49m\u001b[43mCommand\u001b[49m\u001b[38;5;241;43m.\u001b[39;49m\u001b[43mNEW_SESSION\u001b[49m\u001b[43m,\u001b[49m\u001b[43m \u001b[49m\u001b[43mcaps\u001b[49m\u001b[43m)\u001b[49m[\u001b[38;5;124m\"\u001b[39m\u001b[38;5;124mvalue\u001b[39m\u001b[38;5;124m\"\u001b[39m]\n\u001b[1;32m    343\u001b[0m \u001b[38;5;28mself\u001b[39m\u001b[38;5;241m.\u001b[39msession_id \u001b[38;5;241m=\u001b[39m response\u001b[38;5;241m.\u001b[39mget(\u001b[38;5;124m\"\u001b[39m\u001b[38;5;124msessionId\u001b[39m\u001b[38;5;124m\"\u001b[39m)\n\u001b[1;32m    344\u001b[0m \u001b[38;5;28mself\u001b[39m\u001b[38;5;241m.\u001b[39mcaps \u001b[38;5;241m=\u001b[39m response\u001b[38;5;241m.\u001b[39mget(\u001b[38;5;124m\"\u001b[39m\u001b[38;5;124mcapabilities\u001b[39m\u001b[38;5;124m\"\u001b[39m)\n",
      "File \u001b[0;32m/Library/Frameworks/Python.framework/Versions/3.12/lib/python3.12/site-packages/selenium/webdriver/remote/webdriver.py:429\u001b[0m, in \u001b[0;36mWebDriver.execute\u001b[0;34m(self, driver_command, params)\u001b[0m\n\u001b[1;32m    427\u001b[0m response \u001b[38;5;241m=\u001b[39m \u001b[38;5;28mself\u001b[39m\u001b[38;5;241m.\u001b[39mcommand_executor\u001b[38;5;241m.\u001b[39mexecute(driver_command, params)\n\u001b[1;32m    428\u001b[0m \u001b[38;5;28;01mif\u001b[39;00m response:\n\u001b[0;32m--> 429\u001b[0m     \u001b[38;5;28;43mself\u001b[39;49m\u001b[38;5;241;43m.\u001b[39;49m\u001b[43merror_handler\u001b[49m\u001b[38;5;241;43m.\u001b[39;49m\u001b[43mcheck_response\u001b[49m\u001b[43m(\u001b[49m\u001b[43mresponse\u001b[49m\u001b[43m)\u001b[49m\n\u001b[1;32m    430\u001b[0m     response[\u001b[38;5;124m\"\u001b[39m\u001b[38;5;124mvalue\u001b[39m\u001b[38;5;124m\"\u001b[39m] \u001b[38;5;241m=\u001b[39m \u001b[38;5;28mself\u001b[39m\u001b[38;5;241m.\u001b[39m_unwrap_value(response\u001b[38;5;241m.\u001b[39mget(\u001b[38;5;124m\"\u001b[39m\u001b[38;5;124mvalue\u001b[39m\u001b[38;5;124m\"\u001b[39m, \u001b[38;5;28;01mNone\u001b[39;00m))\n\u001b[1;32m    431\u001b[0m     \u001b[38;5;28;01mreturn\u001b[39;00m response\n",
      "File \u001b[0;32m/Library/Frameworks/Python.framework/Versions/3.12/lib/python3.12/site-packages/selenium/webdriver/remote/errorhandler.py:232\u001b[0m, in \u001b[0;36mErrorHandler.check_response\u001b[0;34m(self, response)\u001b[0m\n\u001b[1;32m    230\u001b[0m         alert_text \u001b[38;5;241m=\u001b[39m value[\u001b[38;5;124m\"\u001b[39m\u001b[38;5;124malert\u001b[39m\u001b[38;5;124m\"\u001b[39m]\u001b[38;5;241m.\u001b[39mget(\u001b[38;5;124m\"\u001b[39m\u001b[38;5;124mtext\u001b[39m\u001b[38;5;124m\"\u001b[39m)\n\u001b[1;32m    231\u001b[0m     \u001b[38;5;28;01mraise\u001b[39;00m exception_class(message, screen, stacktrace, alert_text)  \u001b[38;5;66;03m# type: ignore[call-arg]  # mypy is not smart enough here\u001b[39;00m\n\u001b[0;32m--> 232\u001b[0m \u001b[38;5;28;01mraise\u001b[39;00m exception_class(message, screen, stacktrace)\n",
      "\u001b[0;31mSessionNotCreatedException\u001b[0m: Message: session not created: cannot connect to chrome at 127.0.0.1:51478\nfrom session not created: This version of ChromeDriver only supports Chrome version 135\nCurrent browser version is 134.0.6998.166\nStacktrace:\n0   undetected_chromedriver             0x0000000100bae168 undetected_chromedriver + 6177128\n1   undetected_chromedriver             0x0000000100ba582a undetected_chromedriver + 6141994\n2   undetected_chromedriver             0x000000010062fe00 undetected_chromedriver + 417280\n3   undetected_chromedriver             0x00000001006708a6 undetected_chromedriver + 682150\n4   undetected_chromedriver             0x000000010066f814 undetected_chromedriver + 677908\n5   undetected_chromedriver             0x0000000100664fae undetected_chromedriver + 634798\n6   undetected_chromedriver             0x00000001006b5f22 undetected_chromedriver + 966434\n7   undetected_chromedriver             0x00000001006b5416 undetected_chromedriver + 963606\n8   undetected_chromedriver             0x00000001006a74c3 undetected_chromedriver + 906435\n9   undetected_chromedriver             0x0000000100673885 undetected_chromedriver + 694405\n10  undetected_chromedriver             0x00000001006744f1 undetected_chromedriver + 697585\n11  undetected_chromedriver             0x0000000100b6a950 undetected_chromedriver + 5900624\n12  undetected_chromedriver             0x0000000100b6e9e1 undetected_chromedriver + 5917153\n13  undetected_chromedriver             0x0000000100b44e14 undetected_chromedriver + 5746196\n14  undetected_chromedriver             0x0000000100b6f40b undetected_chromedriver + 5919755\n15  undetected_chromedriver             0x0000000100b33574 undetected_chromedriver + 5674356\n16  undetected_chromedriver             0x0000000100b92e88 undetected_chromedriver + 6065800\n17  undetected_chromedriver             0x0000000100b93050 undetected_chromedriver + 6066256\n18  undetected_chromedriver             0x0000000100ba53f1 undetected_chromedriver + 6140913\n19  libsystem_pthread.dylib             0x00007ff801a64253 _pthread_start + 99\n20  libsystem_pthread.dylib             0x00007ff801a5fbef thread_start + 15\n"
     ]
    }
   ],
   "source": [
    "# Get product URLs from the search results page\n",
    "urls = crawl_for_links(url=\"https://www.galaxus.ch/en/s2/producttype/robot-vacuum-cleaners-174?take=204\")\n",
    "\n",
    "# Scrape all product data and store it in a dictionary\n",
    "data = crawl_for_product_data(urls[:5])        # [:10] is for testing only. Scraping one product takes ~4 seconds, so scraping ~500 products takes about 40 minutes.\n",
    "\n",
    "# Save the data to a .csv file\n",
    "data_to_csv(data, save=False)"
   ]
  },
  {
   "cell_type": "markdown",
   "metadata": {},
   "source": [
    "## Data Cleaning"
   ]
  },
  {
   "cell_type": "code",
   "execution_count": 9,
   "metadata": {},
   "outputs": [
    {
     "name": "stdout",
     "output_type": "stream",
     "text": [
      "\n",
      "Data completeness filtering:\n",
      "Rows removed due to having more than 15 empty elements: 3\n",
      "Rows remaining: 468\n",
      "\n",
      "Data cleaning completed. Cleaned data saved to 'robot_vacuums_cleaned.csv'\n",
      "Original shape: (471, 60)\n",
      "Cleaned shape: (468, 25)\n",
      "\n",
      "Data Statistics:\n",
      "Number of unique manufacturers: 91\n",
      "Price range: CHF100.00 - CHF2990.00\n",
      "Average rating: 4.17\n",
      "Average battery life: 169 minutes\n",
      "Most common colours: {'Black': 170, 'White': 159, '': 21}\n",
      "Battery capacity range: 1200 - 8000 mAh\n",
      "\n",
      "Generating summary report...\n",
      "Summary report has been created and saved as 'Vacuum robots info summary.txt'\n"
     ]
    }
   ],
   "source": [
    "# Process and clean the robot vacuum data\n",
    "df_original, df_cleaned, report = process_data(\n",
    "    input_file='robot_vacuums.csv',\n",
    "    output_file='robot_vacuums_cleaned.csv',\n",
    "    report_file='Vacuum robots info summary.txt'\n",
    ")"
   ]
  },
  {
   "cell_type": "markdown",
   "metadata": {},
   "source": [
    "## EDA"
   ]
  },
  {
   "cell_type": "code",
   "execution_count": 19,
   "metadata": {},
   "outputs": [
    {
     "name": "stdout",
     "output_type": "stream",
     "text": [
      "\n",
      "================================================================================\n",
      "======================== EXAMPLE 1: Default Execution ========================\n",
      "================================================================================\n",
      "\n",
      "Running the complete EDA analysis with default parameters...\n",
      "\n",
      "This will:\n",
      " - Use 'robot_vacuums_cleaned.csv' as input\n",
      " - Save plots to the 'plots' directory\n",
      " - Append EDA results to 'Vacuum robots info summary.txt'\n",
      "\n",
      "Executing...\n",
      "\n",
      "\n",
      "Summary Statistics:\n",
      "\n",
      "Price Categories Distribution:\n",
      "price_category\n",
      "Mid-range (CHF 200-500)    52.8%\n",
      "Premium (CHF 500-1000)     26.5%\n",
      "Budget (< CHF 200)         11.8%\n",
      "Luxury (> CHF 1000)         9.0%\n",
      "Name: proportion, dtype: object\n",
      "\n",
      "Country of Origin Distribution:\n",
      "country\n",
      "Other          57.7%\n",
      "China          29.7%\n",
      "USA             8.8%\n",
      "Netherlands     2.4%\n",
      "South Korea     1.1%\n",
      "Germany         0.4%\n",
      "Name: proportion, dtype: object\n",
      "\n",
      "Average Price by Country:\n",
      "country\n",
      "South Korea    1037.21\n",
      "China           667.53\n",
      "Germany         528.50\n",
      "Other           496.72\n",
      "USA             487.98\n",
      "Netherlands     446.54\n",
      "Name: price, dtype: float64\n",
      "\n",
      "Battery Statistics:\n",
      "Average Battery Capacity: 4038 mAh\n",
      "Average Battery Life: 169 minutes\n",
      "\n",
      "Detailed summary has been added to the report file.\n",
      "\n",
      "Plots have been saved in the 'plots' directory.\n",
      "\n",
      "================================================================================\n",
      "======================== EXAMPLE 2: Custom Execution =========================\n",
      "================================================================================\n",
      "\n",
      "Running the EDA analysis with custom parameters...\n",
      "\n",
      "This will:\n",
      " - Use 'robot_vacuums_cleaned.csv' as input\n",
      " - Save plots to the 'custom_plots' directory\n",
      " - Save report to 'Custom_EDA_Report.txt'\n",
      "\n",
      "Executing...\n",
      "\n",
      "\n",
      "Summary Statistics:\n",
      "\n",
      "Price Categories Distribution:\n",
      "price_category\n",
      "Mid-range (CHF 200-500)    52.8%\n",
      "Premium (CHF 500-1000)     26.5%\n",
      "Budget (< CHF 200)         11.8%\n",
      "Luxury (> CHF 1000)         9.0%\n",
      "Name: proportion, dtype: object\n",
      "\n",
      "Country of Origin Distribution:\n",
      "country\n",
      "Other          57.7%\n",
      "China          29.7%\n",
      "USA             8.8%\n",
      "Netherlands     2.4%\n",
      "South Korea     1.1%\n",
      "Germany         0.4%\n",
      "Name: proportion, dtype: object\n",
      "\n",
      "Average Price by Country:\n",
      "country\n",
      "South Korea    1037.21\n",
      "China           667.53\n",
      "Germany         528.50\n",
      "Other           496.72\n",
      "USA             487.98\n",
      "Netherlands     446.54\n",
      "Name: price, dtype: float64\n",
      "\n",
      "Battery Statistics:\n",
      "Average Battery Capacity: 4038 mAh\n",
      "Average Battery Life: 169 minutes\n",
      "\n",
      "Detailed summary has been added to the report file.\n",
      "\n",
      "Plots have been saved in the 'plots' directory.\n",
      "\n",
      "================================================================================\n",
      "======================= EXAMPLE 3: Selective Execution =======================\n",
      "================================================================================\n",
      "\n",
      "Running only selected analysis functions...\n",
      "\n",
      "Loading and preparing data...\n",
      "Generating selected plots:\n",
      " - Price distribution\n",
      " - Country distribution\n",
      " - Battery capacity vs price\n",
      "\n",
      "Selective plots have been saved to the 'selective_plots' directory.\n"
     ]
    }
   ],
   "source": [
    "# With this functions we can make the different variants of evaluation to get a impression of the data\n",
    "# It is not mandatory for the process\n",
    "\n",
    "# Running the full EDA pipeline with default parameters\n",
    "eda_default_execution(input_df='robot_vacuums_cleaned.csv')\n",
    "\n",
    "# Specifying custom input, output files and plots directory\n",
    "eda_custom_execution(input_df='robot_vacuums_cleaned.csv')\n",
    "\n",
    "# Running only specific analysis functions\n",
    "eda_selective_execution(input_file='robot_vacuums_cleaned.csv')  # Note: this function uses input_file, not input_df"
   ]
  },
  {
   "cell_type": "markdown",
   "metadata": {},
   "source": [
    "## Data Analysis"
   ]
  },
  {
   "cell_type": "code",
   "execution_count": null,
   "metadata": {},
   "outputs": [],
   "source": [
    "# Load the cleaned CSV file\n",
    "df_cleaned = load_new(new_csv=\"robot_vacuums_cleaned.csv\", print_i=False)\n",
    "\n",
    "# Create one-hot encodings from the features\n",
    "df_onehot = onehot_encoding(df_cleaned, print_i=False)\n",
    "\n",
    "# Calculate the price-efficiency of the products and return the top X products for each category\n",
    "price_efficiency(df_onehot, top=5)\n",
    "\n",
    "# Analyze the influence of features on product ratings and display those with the lowest p-values\n",
    "feature_rating(df_onehot)\n",
    "\n",
    "# Price and Rating per feature ranking\n",
    "price_efficiency_features(df_onehot, print_i=True)"
   ]
  }
 ],
 "metadata": {
  "kernelspec": {
   "display_name": "Python 3",
   "language": "python",
   "name": "python3"
  },
  "language_info": {
   "codemirror_mode": {
    "name": "ipython",
    "version": 3
   },
   "file_extension": ".py",
   "mimetype": "text/x-python",
   "name": "python",
   "nbconvert_exporter": "python",
   "pygments_lexer": "ipython3",
   "version": "3.12.8"
  }
 },
 "nbformat": 4,
 "nbformat_minor": 2
}
