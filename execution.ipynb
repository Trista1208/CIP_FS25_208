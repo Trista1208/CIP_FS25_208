{
 "cells": [
  {
   "cell_type": "code",
   "execution_count": null,
   "metadata": {},
   "outputs": [],
   "source": [
    "pip install -r requirements.txt"
   ]
  },
  {
   "cell_type": "code",
   "execution_count": null,
   "metadata": {},
   "outputs": [],
   "source": [
    "from CIP_crawling import crawl_for_links, crawl_for_product_data, data_to_csv\n",
    "# from clean_data import ...\n",
    "from CIP_analysis import load_old, load_new, inspecting_outputs, onehot_encoding, price_efficiency, feature_rating, price_efficiency_features"
   ]
  },
  {
   "cell_type": "markdown",
   "metadata": {},
   "source": [
    "## Data Crawling"
   ]
  },
  {
   "cell_type": "code",
   "execution_count": null,
   "metadata": {},
   "outputs": [],
   "source": [
    "# Get product URLs from the search results page\n",
    "urls = crawl_for_links(url=\"https://www.galaxus.ch/en/s2/producttype/robot-vacuum-cleaners-174?take=204\")\n",
    "\n",
    "# Scrape all product data and store it in a dictionary\n",
    "data = crawl_for_product_data(urls[:10])        # [:10] is for testing only. Scraping one product takes ~4 seconds, so scraping ~500 products takes about 40 minutes.\n",
    "\n",
    "# Save the data to a .csv file\n",
    "data_to_csv(data, save=False)"
   ]
  },
  {
   "cell_type": "markdown",
   "metadata": {},
   "source": [
    "## Data Analysis"
   ]
  },
  {
   "cell_type": "code",
   "execution_count": null,
   "metadata": {},
   "outputs": [],
   "source": [
    "\n"
   ]
  },
  {
   "cell_type": "markdown",
   "metadata": {},
   "source": [
    "## Data Cleaning"
   ]
  },
  {
   "cell_type": "code",
   "execution_count": null,
   "metadata": {},
   "outputs": [],
   "source": [
    "# Load the cleaned CSV file\n",
    "df_cleaned = load_new(new_csv=\"robot_vacuums_cleaned.csv\", print_i=False)\n",
    "\n",
    "# Create one-hot encodings from the features\n",
    "df_onehot = onehot_encoding(df_cleaned, print_i=False)\n",
    "\n",
    "# Calculate the price-efficiency of the products and return the top X products for each category\n",
    "price_efficiency(df_onehot, top=5)\n",
    "\n",
    "# Analyze the influence of features on product ratings and display those with the lowest p-values\n",
    "feature_rating(df_onehot)\n",
    "\n",
    "# Price \n",
    "price_efficiency_features(df_onehot)"
   ]
  }
 ],
 "metadata": {
  "kernelspec": {
   "display_name": ".CIP",
   "language": "python",
   "name": "python3"
  },
  "language_info": {
   "codemirror_mode": {
    "name": "ipython",
    "version": 3
   },
   "file_extension": ".py",
   "mimetype": "text/x-python",
   "name": "python",
   "nbconvert_exporter": "python",
   "pygments_lexer": "ipython3",
   "version": "3.11.5"
  }
 },
 "nbformat": 4,
 "nbformat_minor": 2
}
