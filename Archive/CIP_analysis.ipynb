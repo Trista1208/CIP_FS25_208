{
 "cells": [
  {
   "cell_type": "code",
   "execution_count": null,
   "metadata": {},
   "outputs": [],
   "source": [
    "import pandas as pd\n",
    "import statsmodels.formula.api as smf"
   ]
  },
  {
   "cell_type": "markdown",
   "metadata": {},
   "source": [
    "## Inspecting the Data"
   ]
  },
  {
   "cell_type": "code",
   "execution_count": null,
   "metadata": {},
   "outputs": [],
   "source": [
    "df = pd.read_csv(\"robot_vacuums.csv\")\n",
    "shape = df.shape\n",
    "print(shape)\n",
    "for titel in df.keys():\n",
    "    count_na = df[titel].isna().sum()\n",
    "    print(f\"{round(count_na * 100 / shape[0], 1)}% of {titel} are NA-values\")"
   ]
  },
  {
   "cell_type": "code",
   "execution_count": null,
   "metadata": {},
   "outputs": [],
   "source": [
    "df = pd.read_csv(\"robot_vacuums_cleaned.csv\")\n",
    "shape = df.shape\n",
    "print(shape)\n",
    "for titel in df.keys():\n",
    "    count_na = df[titel].isna().sum()\n",
    "    print(f\"{round(count_na * 100 / shape[0], 1)}% of {titel} are NA-values\")"
   ]
  },
  {
   "cell_type": "code",
   "execution_count": null,
   "metadata": {},
   "outputs": [],
   "source": [
    "# inspecting\n",
    "[print(feature)for feature in df[\"features\"][0:5]]\n",
    "print(\"\\n\")\n",
    "[print(feature)for feature in df[\"robot_type\"][0:5]]\n",
    "print(\"\\n\")\n",
    "[print(feature)for feature in df[\"battery_life\"][0:5]]\n",
    "print(\"\\n\")\n",
    "[print(feature)for feature in df[\"noise_level\"][0:5]]\n",
    "print(\"\\n\")\n",
    "[print(feature)for feature in df[\"suction_power\"][0:5]]\n",
    "print(\"\\n\")\n",
    "[print(feature)for feature in df[\"smart_home_ecosystem\"][0:5]]"
   ]
  },
  {
   "cell_type": "markdown",
   "metadata": {},
   "source": [
    "## One hot encoding der Features"
   ]
  },
  {
   "cell_type": "code",
   "execution_count": null,
   "metadata": {},
   "outputs": [],
   "source": [
    "df = pd.read_csv(\"robot_vacuums_cleaned.csv\")\n",
    "\n",
    "# creating the one-hot encoding for every feature\n",
    "# if feature is Na, it should be detectable\n",
    "df[\"features_clean\"] = df[\"features\"].fillna(\"missing\")\n",
    "onehot = df[\"features_clean\"].str.get_dummies(sep=\"|\")\n",
    "df_onehot = pd.concat([df, onehot], axis=1)\n",
    "# for some librarys it's not possible to work with these\n",
    "df_onehot.columns = df_onehot.columns.str.replace(\" \", \"_\")\n",
    "df_onehot.columns = df_onehot.columns.str.replace(\"-\", \"_\")\n",
    "\n",
    "for titel in df_onehot.keys():\n",
    "    print(f\"{titel} + \", end=\"\")"
   ]
  },
  {
   "cell_type": "markdown",
   "metadata": {},
   "source": [
    "## Performance and Price"
   ]
  },
  {
   "cell_type": "code",
   "execution_count": null,
   "metadata": {},
   "outputs": [],
   "source": [
    "print(df[\"robot_type\"].value_counts(), \"\\n\")\n",
    "\n",
    "robot_type = df[\"robot_type\"].unique()\n",
    "\n",
    "for ro_type in df[\"robot_type\"].unique()[:3]:\n",
    "    df_filtered = df[df[\"robot_type\"] == ro_type].copy()\n",
    "\n",
    "    # make a quality score\n",
    "\n",
    "    # get soome values important values at a quantile of 80%\n",
    "    quantile = 0.8\n",
    "    battery_qual = (df_filtered[\"battery_life\"] / df_filtered[\"battery_life\"].quantile(quantile)).clip(upper=1)\n",
    "    noise_qual = (df_filtered[\"noise_level\"] / df_filtered[\"noise_level\"].quantile(quantile)).clip(upper=1)\n",
    "    suction_qual = (df_filtered[\"suction_power\"] / df_filtered[\"suction_power\"].quantile(quantile)).clip(upper=1)\n",
    "    room_qual = (df_filtered[\"room_area\"] / df_filtered[\"room_area\"].quantile(quantile)).clip(upper=1)\n",
    "\n",
    "    # created a quality score over multiple value scores\n",
    "    df_filtered[\"quality_score\"] = pd.concat([battery_qual, noise_qual, suction_qual, room_qual], axis=1).mean(axis=1, skipna=True)\n",
    "\n",
    "    # 300 are just because many prices are about 1000.- and a score from 0 - 100 is better to read than a verry small number\n",
    "    # price ** 1/5 is to reduce the price influence on the result. Most good products are still verry cheap\n",
    "    df_filtered[\"price_efficiency\"] = df_filtered[\"quality_score\"] / df_filtered[\"price\"]**(1/5) * 300\n",
    "\n",
    "    print(f\"for the {ro_type} the ranking is:\")\n",
    "    \n",
    "    top10 = df_filtered.sort_values(\"price_efficiency\", ascending=False).head(10)\n",
    "    print(top10[[\"product_name\", \"price_efficiency\", \"price\"]].round(2))\n",
    "    print(\"\\n\")"
   ]
  },
  {
   "cell_type": "markdown",
   "metadata": {},
   "source": [
    "## Featrure Rating comparison"
   ]
  },
  {
   "cell_type": "code",
   "execution_count": null,
   "metadata": {},
   "outputs": [],
   "source": [
    "# ca 200 left\n",
    "df_rating = df_onehot[df_onehot[\"rating_count\"] >= 10]\n",
    "\n",
    "model = smf.ols(formula=\"rating ~ battery_life + noise_level + suction_power + room_area + Area_cleaning + Automatic_detergent_addition + Automatic_dust_emptying + Automatic_mop_pad_separation + Automatic_power_adjustment + Automatic_water_refill + Automatic_water_regulation + Base_station + Camera_function + Camera_based_navigation + Carpet_detection + Configurable_cleaning_programmes + Extendable_side_brushes + Extendable_wiping_pads + Fixed_water_connection + Independent_emptying + Infrared_sensor + Laser_navigation + Obstacle_detector + Programmable_cleaning_schedules + Programmable_room_boundary + Removable_water_tank + Self_cleaning_mop_pads + Staircase_safe\", data=df_rating).fit()\n",
    "# Ergebnisse extrahieren\n",
    "results_df = pd.DataFrame({\n",
    "    \"coef\": model.params,\n",
    "    \"std_err\": model.bse,\n",
    "    \"t\": model.tvalues,\n",
    "    \"p_value\": model.pvalues\n",
    "})\n",
    "\n",
    "# Nach p-Wert sortieren\n",
    "sorted_results = results_df.sort_values(\"p_value\")\n",
    "\n",
    "# Anzeigen\n",
    "print(\"top features with influence on the ratings with p < 0,1\")\n",
    "print(sorted_results[sorted_results[\"p_value\"] <= 0.1].round(3))"
   ]
  },
  {
   "cell_type": "code",
   "execution_count": null,
   "metadata": {},
   "outputs": [],
   "source": [
    "print(model.summary())"
   ]
  },
  {
   "cell_type": "markdown",
   "metadata": {},
   "source": [
    "## Price per Feature"
   ]
  },
  {
   "cell_type": "code",
   "execution_count": null,
   "metadata": {},
   "outputs": [],
   "source": [
    "import numpy as np"
   ]
  },
  {
   "cell_type": "code",
   "execution_count": null,
   "metadata": {},
   "outputs": [],
   "source": [
    "# ca 200 left\n",
    "df_price = df_onehot[df_onehot[\"rating_count\"] >= 10]\n",
    "print(\"sample size before cleaning \", df_price.shape[0])\n",
    "print(\"price max \", df_price[\"price\"].max())\n",
    "print(\"price mean \", df_price[\"price\"].mean())\n",
    "print(\"price median \", df_price[\"price\"].median())\n",
    "\n",
    "# there are some realy high price products, they are eliminated\n",
    "df_price = df_price[df_price[\"price\"] <= 2000]\n",
    "print(\"sample size after cleaning \", df_price.shape[0])\n",
    "print(\"price mean \", df_price[\"price\"].mean())\n",
    "print(\"price median \", df_price[\"price\"].median())"
   ]
  },
  {
   "cell_type": "code",
   "execution_count": null,
   "metadata": {},
   "outputs": [],
   "source": [
    "formula = (\n",
    "    \"battery_life + noise_level + suction_power + room_area + \"\n",
    "    \"Area_cleaning + Automatic_detergent_addition + Automatic_dust_emptying + \"\n",
    "    \"Automatic_mop_pad_separation + Automatic_power_adjustment + Automatic_water_refill + \"\n",
    "    \"Automatic_water_regulation + Base_station + Camera_function + Camera_based_navigation + \"\n",
    "    \"Carpet_detection + Configurable_cleaning_programmes + Extendable_side_brushes + \"\n",
    "    \"Extendable_wiping_pads + Fixed_water_connection + Independent_emptying + \"\n",
    "    \"Infrared_sensor + Laser_navigation + Obstacle_detector + Programmable_cleaning_schedules + \"\n",
    "    \"Programmable_room_boundary + Removable_water_tank + Self_cleaning_mop_pads + Staircase_safe\")\n",
    "\n",
    "# PRICE MODEL\n",
    "model_price = smf.ols(formula=f\"price ~ {formula}\", data=df_price).fit()\n",
    "results_price = pd.DataFrame({\n",
    "    \"coef_price\": model_price.params,\n",
    "    \"p_price\": model_price.pvalues})\n",
    "\n",
    "# RATING MODEL\n",
    "model_rating = smf.ols(formula=f\"rating ~ {formula}\", data=df_price).fit()\n",
    "results_rating = pd.DataFrame({\n",
    "    \"coef_rating\": model_rating.params,\n",
    "    \"p_rating\": model_rating.pvalues})\n",
    "\n",
    "# Nach p-Wert sortieren\n",
    "sorted_results = results_df.sort_values(\"p_value\")\n",
    "\n",
    "# Combine and drop intercept\n",
    "results = results_price.join(results_rating, how=\"inner\")\n",
    "results = results.drop(index=\"Intercept\")\n",
    "\n",
    "# Compute scores\n",
    "results[\"score_price\"] = - results[\"coef_price\"] * -np.log10(results[\"p_price\"])\n",
    "results[\"score_rating\"] = results[\"coef_rating\"] * -np.log10(results[\"p_rating\"])\n",
    "\n",
    "# Normalize scores between 0 and 1\n",
    "results[\"score_price_norm\"] = (results[\"score_price\"] - results[\"score_price\"].min()) / (results[\"score_price\"].max() - results[\"score_price\"].min())\n",
    "results[\"score_rating_norm\"] = (results[\"score_rating\"] - results[\"score_rating\"].min()) / (results[\"score_rating\"].max() - results[\"score_rating\"].min())\n",
    "\n",
    "# Combined score (average)\n",
    "results[\"combined_score\"] = (results[\"score_price_norm\"] + results[\"score_rating_norm\"]) / 2\n",
    "\n",
    "# Sort by combined_score\n",
    "results_sorted = results.sort_values(\"combined_score\", ascending=False)\n",
    "\n",
    "print(\"\\n📊 Top features by combined influence on price and rating:\\n\")\n",
    "print(results_sorted[[\"combined_score\", \"coef_price\", \"coef_rating\"]][:10].round(3))"
   ]
  },
  {
   "cell_type": "code",
   "execution_count": null,
   "metadata": {},
   "outputs": [],
   "source": [
    "print(model.summary())"
   ]
  }
 ],
 "metadata": {
  "kernelspec": {
   "display_name": ".CIP",
   "language": "python",
   "name": "python3"
  },
  "language_info": {
   "codemirror_mode": {
    "name": "ipython",
    "version": 3
   },
   "file_extension": ".py",
   "mimetype": "text/x-python",
   "name": "python",
   "nbconvert_exporter": "python",
   "pygments_lexer": "ipython3",
   "version": "3.11.5"
  }
 },
 "nbformat": 4,
 "nbformat_minor": 2
}
